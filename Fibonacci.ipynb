{
 "cells": [
  {
   "cell_type": "code",
   "execution_count": 3,
   "id": "8d2af1a3",
   "metadata": {},
   "outputs": [
    {
     "name": "stdout",
     "output_type": "stream",
     "text": [
      "insira um número:64538274\n",
      "64538274 não está presente na sequência de Fibonacci\n"
     ]
    }
   ],
   "source": [
    "# n está em Fibonacci se satisfizer (5*n2 + 4) ou (5*n2 – 4) sendo um quadrado perfeito\n",
    "import math\n",
    "\n",
    "# Passo 1: checar se o valor é um quadrado perfeito\n",
    "def QuadradoPerfeito(x):\n",
    "    q = int(math.sqrt(x))\n",
    "    return q*q == x\n",
    "\n",
    "# Passo 2: Verdadeiro se for um número de Fibonacci, ou falso se não for\n",
    "n = int(input('insira um número:'))\n",
    "resultado1 = 5*(n*n)+4\n",
    "resultado2 = 5*(n*n)-4\n",
    "\n",
    "# Passo 3: testar as funções anteriores\n",
    "if QuadradoPerfeito(resultado1) or QuadradoPerfeito(resultado2):\n",
    "    print (n, \"está presente na sequência de Fibonacci\")\n",
    "else:\n",
    "    print (n, \"não está presente na sequência de Fibonacci\")"
   ]
  },
  {
   "cell_type": "code",
   "execution_count": null,
   "id": "dc5e3842",
   "metadata": {},
   "outputs": [],
   "source": []
  },
  {
   "cell_type": "code",
   "execution_count": null,
   "id": "4fc210b1",
   "metadata": {},
   "outputs": [],
   "source": []
  }
 ],
 "metadata": {
  "kernelspec": {
   "display_name": "Python 3 (ipykernel)",
   "language": "python",
   "name": "python3"
  },
  "language_info": {
   "codemirror_mode": {
    "name": "ipython",
    "version": 3
   },
   "file_extension": ".py",
   "mimetype": "text/x-python",
   "name": "python",
   "nbconvert_exporter": "python",
   "pygments_lexer": "ipython3",
   "version": "3.9.12"
  }
 },
 "nbformat": 4,
 "nbformat_minor": 5
}
