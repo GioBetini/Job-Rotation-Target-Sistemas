{
 "cells": [
  {
   "cell_type": "code",
   "execution_count": 70,
   "id": "93948fb7",
   "metadata": {},
   "outputs": [
    {
     "name": "stdout",
     "output_type": "stream",
     "text": [
      "    dia       valor\n",
      "0     1  22174.1664\n",
      "1     2  24537.6698\n",
      "2     3  26139.6134\n",
      "5     6  26742.6612\n",
      "7     8  42889.2258\n",
      "8     9  46251.1740\n",
      "9    10  11191.4722\n",
      "12   13   3847.4823\n",
      "13   14    373.7838\n",
      "14   15   2659.7563\n",
      "15   16  48924.2448\n",
      "16   17  18419.2614\n",
      "19   20  35240.1826\n",
      "20   21  43829.1667\n",
      "21   22  18235.6852\n",
      "22   23   4355.0662\n",
      "23   24  13327.1025\n",
      "26   27  25681.8318\n",
      "27   28   1718.1221\n",
      "28   29  13220.4950\n",
      "29   30   8414.6100\n"
     ]
    }
   ],
   "source": [
    "import pandas as pd\n",
    "\n",
    "fm = pd.read_json('dados.json')\n",
    "# Passo 1: analisar o faturamento diário (realizar o tratamento dos dados se necessário)\n",
    "fm = fm.drop([3, 4, 6, 10, 11, 17, 18, 24, 25]) # desconsiderando fins de semana e/ou feriados\n",
    "\n",
    "print(fm)"
   ]
  },
  {
   "cell_type": "code",
   "execution_count": 71,
   "id": "b39e23e8",
   "metadata": {},
   "outputs": [
    {
     "name": "stdout",
     "output_type": "stream",
     "text": [
      "O maior valor de vendas no mês foi R$ 48924.2448\n",
      "O menor valor de vendas no mês foi R$ 373.7838\n"
     ]
    },
    {
     "data": {
      "text/html": [
       "<div>\n",
       "<style scoped>\n",
       "    .dataframe tbody tr th:only-of-type {\n",
       "        vertical-align: middle;\n",
       "    }\n",
       "\n",
       "    .dataframe tbody tr th {\n",
       "        vertical-align: top;\n",
       "    }\n",
       "\n",
       "    .dataframe thead th {\n",
       "        text-align: right;\n",
       "    }\n",
       "</style>\n",
       "<table border=\"1\" class=\"dataframe\">\n",
       "  <thead>\n",
       "    <tr style=\"text-align: right;\">\n",
       "      <th></th>\n",
       "      <th>dia</th>\n",
       "      <th>valor</th>\n",
       "    </tr>\n",
       "  </thead>\n",
       "  <tbody>\n",
       "    <tr>\n",
       "      <th>0</th>\n",
       "      <td>1</td>\n",
       "      <td>22174.1664</td>\n",
       "    </tr>\n",
       "    <tr>\n",
       "      <th>1</th>\n",
       "      <td>2</td>\n",
       "      <td>24537.6698</td>\n",
       "    </tr>\n",
       "    <tr>\n",
       "      <th>2</th>\n",
       "      <td>3</td>\n",
       "      <td>26139.6134</td>\n",
       "    </tr>\n",
       "    <tr>\n",
       "      <th>5</th>\n",
       "      <td>6</td>\n",
       "      <td>26742.6612</td>\n",
       "    </tr>\n",
       "    <tr>\n",
       "      <th>7</th>\n",
       "      <td>8</td>\n",
       "      <td>42889.2258</td>\n",
       "    </tr>\n",
       "    <tr>\n",
       "      <th>8</th>\n",
       "      <td>9</td>\n",
       "      <td>46251.1740</td>\n",
       "    </tr>\n",
       "    <tr>\n",
       "      <th>15</th>\n",
       "      <td>16</td>\n",
       "      <td>48924.2448</td>\n",
       "    </tr>\n",
       "    <tr>\n",
       "      <th>19</th>\n",
       "      <td>20</td>\n",
       "      <td>35240.1826</td>\n",
       "    </tr>\n",
       "    <tr>\n",
       "      <th>20</th>\n",
       "      <td>21</td>\n",
       "      <td>43829.1667</td>\n",
       "    </tr>\n",
       "    <tr>\n",
       "      <th>26</th>\n",
       "      <td>27</td>\n",
       "      <td>25681.8318</td>\n",
       "    </tr>\n",
       "  </tbody>\n",
       "</table>\n",
       "</div>"
      ],
      "text/plain": [
       "    dia       valor\n",
       "0     1  22174.1664\n",
       "1     2  24537.6698\n",
       "2     3  26139.6134\n",
       "5     6  26742.6612\n",
       "7     8  42889.2258\n",
       "8     9  46251.1740\n",
       "15   16  48924.2448\n",
       "19   20  35240.1826\n",
       "20   21  43829.1667\n",
       "26   27  25681.8318"
      ]
     },
     "execution_count": 71,
     "metadata": {},
     "output_type": "execute_result"
    }
   ],
   "source": [
    "# Passo 2: buscar o maior e o menor valor de faturamento no mês(desconsiderando nulos)\n",
    "print('O maior valor de vendas no mês foi R$ %.4f' %(fm.max(axis=0)['valor'])) # mostrar o ápice de \n",
    "                                                                               # vendas mensal\n",
    "print('O menor valor de vendas no mês foi R$ %.4f' %(fm.min(axis=0)['valor'])) # mostrar a base de\n",
    "                                                                               # vendas mensal\n",
    "# Passo 3: calcular a média mensal (desconsiderando dias não trabalhados)\n",
    "média = fm['valor'].mean()\n",
    "\n",
    "# Passo 4: apontar o número de dias no mês em que o faturamento foi maior que a média mensal\n",
    "fm[fm['valor'] >média]\n",
    "#tabela apresentando apenas valores acima da média de vendas do mês"
   ]
  },
  {
   "cell_type": "code",
   "execution_count": null,
   "id": "4b98414e",
   "metadata": {},
   "outputs": [],
   "source": []
  },
  {
   "cell_type": "code",
   "execution_count": null,
   "id": "2ccf05bd",
   "metadata": {},
   "outputs": [],
   "source": []
  }
 ],
 "metadata": {
  "kernelspec": {
   "display_name": "Python 3 (ipykernel)",
   "language": "python",
   "name": "python3"
  },
  "language_info": {
   "codemirror_mode": {
    "name": "ipython",
    "version": 3
   },
   "file_extension": ".py",
   "mimetype": "text/x-python",
   "name": "python",
   "nbconvert_exporter": "python",
   "pygments_lexer": "ipython3",
   "version": "3.9.12"
  }
 },
 "nbformat": 4,
 "nbformat_minor": 5
}
