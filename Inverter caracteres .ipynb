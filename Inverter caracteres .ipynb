{
 "cells": [
  {
   "cell_type": "code",
   "execution_count": 6,
   "id": "36cf1ded",
   "metadata": {},
   "outputs": [
    {
     "name": "stdout",
     "output_type": "stream",
     "text": [
      "Digite o que quiser! bom dia\n",
      " Você digitou: bom dia\n",
      "A frase que você digitou invertida fica: mob aid\n",
      "A frase original é : Obrigado pelos desafios!\n",
      "A frase invertida é : !soifased solep odagirbO\n"
     ]
    }
   ],
   "source": [
    "\n",
    "\n",
    "# Passo 1: possibilitar a criação de uma string qualquer\n",
    "frase = input('Digite o que quiser! ')\n",
    "print(' Você digitou: {}'. format(frase))\n",
    "\n",
    "\n",
    "# Passo 2: invertê-la (mantendo a ordem das palavras e mudando só os caracteres de posição)\n",
    "invertida = ' '.join(palavra[::-1] for palavra in frase.split())\n",
    "print('A frase que você digitou invertida fica: {}'.format(invertida))\n",
    "\n",
    "#---------------------------------------------------------------------------------------------------\n",
    "# Passo 3: invertê-la de modo completamente aleatório\n",
    "def reverse_string(string): \n",
    "    if len(string) == 0: \n",
    "        return string \n",
    "    else: \n",
    "        return reverse_string(string[1:]) + string[0] \n",
    "  \n",
    "string = \"Obrigado pelos desafios!\"\n",
    "  \n",
    "print (\"A frase original é : \",end=\"\") \n",
    "print (string) \n",
    "  \n",
    "print (\"A frase invertida é : \",end=\"\") \n",
    "print (reverse_string(string))  \n"
   ]
  },
  {
   "cell_type": "code",
   "execution_count": null,
   "id": "6b3e55ae",
   "metadata": {},
   "outputs": [],
   "source": []
  }
 ],
 "metadata": {
  "kernelspec": {
   "display_name": "Python 3 (ipykernel)",
   "language": "python",
   "name": "python3"
  },
  "language_info": {
   "codemirror_mode": {
    "name": "ipython",
    "version": 3
   },
   "file_extension": ".py",
   "mimetype": "text/x-python",
   "name": "python",
   "nbconvert_exporter": "python",
   "pygments_lexer": "ipython3",
   "version": "3.9.12"
  }
 },
 "nbformat": 4,
 "nbformat_minor": 5
}
