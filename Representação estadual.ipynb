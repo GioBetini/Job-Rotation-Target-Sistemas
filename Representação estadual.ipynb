{
 "cells": [
  {
   "cell_type": "code",
   "execution_count": 12,
   "id": "68935795",
   "metadata": {},
   "outputs": [
    {
     "name": "stdout",
     "output_type": "stream",
     "text": [
      "Digite o faturamento mensal de SP: 67.83643\n",
      "Digite o faturamento mensal de RJ: 36.67866\n",
      "Digite o faturamento mensal de MG: 29.22988\n",
      "Digite o faturamento mensal de ES: 27.16548\n",
      "Digite o faturamento mensal de OUTROS: 19.84953\n",
      "\u001b[32mO faturamento total da Distribuidora foi: R$ 180.76\n",
      "O percentual de faturamento de SP é: 37.53 %\n",
      "O percentual de faturamento de RJ é: 20.29 %\n",
      "O percentual de faturamento de MG é: 16.17 %\n",
      "O percentual de faturamento de ES é: 15.03 %\n",
      "O percentual de faturamento de OUTROS é: 10.98 %\n"
     ]
    }
   ],
   "source": [
    "# Passo 1: organizar as informações\n",
    "e = ['SP', 'RJ', 'MG', 'ES', 'OUTROS']\n",
    "\n",
    "faturamento = list()\n",
    "for c in e:\n",
    "    # valores digitados devem estar no formato 'xx.xxxxx'\n",
    "    while True:\n",
    "        try:\n",
    "            v = float(input(f'Digite o faturamento mensal de {c}: '))\n",
    "            if v < 0:\n",
    "                print('\\033[31mValor INVÁLIDO! Digite apenas valores maiores ou iguais a \"0\":\\033[m')\n",
    "            break\n",
    "        except:\n",
    "            print('\\033[31mValor INVÁLIDO! Digite apenas valores reais!\\033[m')\n",
    "\n",
    "    # listando os valores\n",
    "    faturamento.append(v)\n",
    "\n",
    "# Passo 2: calcular o faturamento total da Distribuidora\n",
    "faturamento_total = sum(faturamento)\n",
    "print(f'\\033[32mO faturamento total da Distribuidora foi: R$ {faturamento_total:.2f}')\n",
    "\n",
    "# Passo 3: calcular a porcentagem de representação de cada Estado\n",
    "cont = 0\n",
    "for i in faturamento:\n",
    "    cont += 1\n",
    "    percentual = ((i / faturamento_total) * 100)\n",
    "    print(f'O percentual de faturamento de {e[cont - 1]} é: {percentual:.2f} %')"
   ]
  },
  {
   "cell_type": "code",
   "execution_count": null,
   "id": "5b06f212",
   "metadata": {},
   "outputs": [],
   "source": []
  }
 ],
 "metadata": {
  "kernelspec": {
   "display_name": "Python 3 (ipykernel)",
   "language": "python",
   "name": "python3"
  },
  "language_info": {
   "codemirror_mode": {
    "name": "ipython",
    "version": 3
   },
   "file_extension": ".py",
   "mimetype": "text/x-python",
   "name": "python",
   "nbconvert_exporter": "python",
   "pygments_lexer": "ipython3",
   "version": "3.9.12"
  }
 },
 "nbformat": 4,
 "nbformat_minor": 5
}
